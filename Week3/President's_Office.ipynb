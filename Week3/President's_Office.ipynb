{
 "cells": [
  {
   "cell_type": "code",
   "execution_count": 5,
   "id": "81625b9b",
   "metadata": {},
   "outputs": [
    {
     "name": "stdout",
     "output_type": "stream",
     "text": [
      "3 4 R\n",
      "G.B.\n",
      ".RR.\n",
      "TTT.\n",
      "2\n"
     ]
    }
   ],
   "source": [
    "n, m, c = input().split()\n",
    "n, m = int(n), int(m)\n",
    "office_room_description = [input().strip() for _ in range(n)]\n",
    "\n",
    "adjacent_desks = set()\n",
    "\n",
    "for i in range(n):\n",
    "    for j in range(m):\n",
    "        if office_room_description[i][j] == c:\n",
    "            # Check up, down, left, and right neighbors\n",
    "            if i > 0 and office_room_description[i-1][j] != c and office_room_description[i-1][j] != '.':\n",
    "                adjacent_desks.add(office_room_description[i-1][j])\n",
    "            if i < n-1 and office_room_description[i+1][j] != c and office_room_description[i+1][j] != '.':\n",
    "                adjacent_desks.add(office_room_description[i+1][j])\n",
    "            if j > 0 and office_room_description[i][j-1] != c and office_room_description[i][j-1] != '.':\n",
    "                adjacent_desks.add(office_room_description[i][j-1])\n",
    "            if j < m-1 and office_room_description[i][j+1] != c and office_room_description[i][j+1] != '.':\n",
    "                adjacent_desks.add(office_room_description[i][j+1])\n",
    "\n",
    "print(len(adjacent_desks))"
   ]
  },
  {
   "cell_type": "code",
   "execution_count": null,
   "id": "267d41c3",
   "metadata": {},
   "outputs": [],
   "source": []
  }
 ],
 "metadata": {
  "kernelspec": {
   "display_name": "Python 3 (ipykernel)",
   "language": "python",
   "name": "python3"
  },
  "language_info": {
   "codemirror_mode": {
    "name": "ipython",
    "version": 3
   },
   "file_extension": ".py",
   "mimetype": "text/x-python",
   "name": "python",
   "nbconvert_exporter": "python",
   "pygments_lexer": "ipython3",
   "version": "3.9.13"
  }
 },
 "nbformat": 4,
 "nbformat_minor": 5
}
