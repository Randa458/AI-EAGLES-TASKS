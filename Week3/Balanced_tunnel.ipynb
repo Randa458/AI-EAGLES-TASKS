{
 "cells": [
  {
   "cell_type": "code",
   "execution_count": 14,
   "id": "eec6d8b2",
   "metadata": {},
   "outputs": [
    {
     "name": "stdout",
     "output_type": "stream",
     "text": [
      "5\n",
      "3 5 2 1 4\n",
      "4 3 2 5 1\n",
      "2\n"
     ]
    }
   ],
   "source": [
    "def count_fines(n, entered_cars, exit_cars):\n",
    "    fined = 0\n",
    "    pos = 0\n",
    "    exit_pos = 0\n",
    "    fined_cars = set()\n",
    "    \n",
    "    while pos < n and exit_pos < n:\n",
    "        if entered_cars[pos] == exit_cars[exit_pos]:\n",
    "            pos += 1\n",
    "            exit_pos += 1\n",
    "        elif entered_cars[pos] in fined_cars:\n",
    "            pos += 1\n",
    "        else:\n",
    "            fined += 1\n",
    "            fined_cars.add(exit_cars[exit_pos])\n",
    "            exit_pos += 1\n",
    "    \n",
    "    return fined\n",
    "\n",
    "\n",
    "n = int(input())\n",
    "entered_cars = list(map(int, input().split()))\n",
    "exit_cars = list(map(int, input().split()))\n",
    "\n",
    "\n",
    "result = count_fines(n, entered_cars, exit_cars)\n",
    "\n",
    "print(result)\n"
   ]
  },
  {
   "cell_type": "code",
   "execution_count": null,
   "id": "478810b4",
   "metadata": {},
   "outputs": [],
   "source": []
  }
 ],
 "metadata": {
  "kernelspec": {
   "display_name": "Python 3 (ipykernel)",
   "language": "python",
   "name": "python3"
  },
  "language_info": {
   "codemirror_mode": {
    "name": "ipython",
    "version": 3
   },
   "file_extension": ".py",
   "mimetype": "text/x-python",
   "name": "python",
   "nbconvert_exporter": "python",
   "pygments_lexer": "ipython3",
   "version": "3.9.13"
  }
 },
 "nbformat": 4,
 "nbformat_minor": 5
}
