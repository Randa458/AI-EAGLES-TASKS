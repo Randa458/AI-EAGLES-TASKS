{
 "cells": [
  {
   "cell_type": "code",
   "execution_count": 4,
   "id": "78ac10a7",
   "metadata": {},
   "outputs": [
    {
     "name": "stdout",
     "output_type": "stream",
     "text": [
      "4 2\n",
      "1 4\n",
      "2 4\n",
      "3\n",
      "0 1 2 0\n"
     ]
    }
   ],
   "source": [
    "n, m = map(int, input().split())\n",
    "subarrays = [tuple(map(int, input().split())) for _ in range(m)]\n",
    "\n",
    "min_len = n  \n",
    "\n",
    "for l, r in subarrays:\n",
    "    min_len = min(min_len, r - l + 1)  \n",
    "\n",
    "array = []\n",
    "for i in range(n):\n",
    "    array.append(i % min_len)\n",
    "\n",
    "print(min_len)\n",
    "print(*array)\n",
    "\n"
   ]
  },
  {
   "cell_type": "code",
   "execution_count": null,
   "id": "ae8f2de6",
   "metadata": {},
   "outputs": [],
   "source": []
  }
 ],
 "metadata": {
  "kernelspec": {
   "display_name": "Python 3 (ipykernel)",
   "language": "python",
   "name": "python3"
  },
  "language_info": {
   "codemirror_mode": {
    "name": "ipython",
    "version": 3
   },
   "file_extension": ".py",
   "mimetype": "text/x-python",
   "name": "python",
   "nbconvert_exporter": "python",
   "pygments_lexer": "ipython3",
   "version": "3.9.13"
  }
 },
 "nbformat": 4,
 "nbformat_minor": 5
}
