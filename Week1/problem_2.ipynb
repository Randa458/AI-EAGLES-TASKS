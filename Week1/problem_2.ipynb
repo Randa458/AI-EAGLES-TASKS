{
 "cells": [
  {
   "cell_type": "code",
   "execution_count": 18,
   "id": "7bb3ce4b",
   "metadata": {},
   "outputs": [
    {
     "name": "stdout",
     "output_type": "stream",
     "text": [
      "R G B\n",
      "R R R\n",
      "2\n"
     ]
    }
   ],
   "source": [
    "S = input().replace(\" \", \"\").strip()\n",
    "\n",
    "T = input().replace(\" \", \"\").strip()\n",
    "\n",
    "counter = 0\n",
    "\n",
    "for char in T:\n",
    "    if counter < len(S) and S[counter] == char:\n",
    "        counter += 1\n",
    "        \n",
    "counter+=1\n",
    "\n",
    "print(counter)\n"
   ]
  },
  {
   "cell_type": "code",
   "execution_count": null,
   "id": "5015c782",
   "metadata": {},
   "outputs": [],
   "source": []
  }
 ],
 "metadata": {
  "kernelspec": {
   "display_name": "Python 3 (ipykernel)",
   "language": "python",
   "name": "python3"
  },
  "language_info": {
   "codemirror_mode": {
    "name": "ipython",
    "version": 3
   },
   "file_extension": ".py",
   "mimetype": "text/x-python",
   "name": "python",
   "nbconvert_exporter": "python",
   "pygments_lexer": "ipython3",
   "version": "3.9.13"
  }
 },
 "nbformat": 4,
 "nbformat_minor": 5
}
