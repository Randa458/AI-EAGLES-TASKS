{
 "cells": [
  {
   "cell_type": "code",
   "execution_count": 3,
   "id": "e7ea224d",
   "metadata": {},
   "outputs": [
    {
     "name": "stdout",
     "output_type": "stream",
     "text": [
      "Enter the number of problems: 3\n",
      "1 0 1\n",
      "1 1 0\n",
      "1 0 0\n",
      "2\n"
     ]
    }
   ],
   "source": [
    "def count_agreed_problems():\n",
    "    num_problems = int(input(\"Enter the number of problems: \"))\n",
    "    count = 0\n",
    "\n",
    "    for i in range(num_problems):\n",
    "        responses = input().strip().split()\n",
    "\n",
    "        responses = [int(resp) for resp in responses]\n",
    "\n",
    "        if sum(responses) >= 2:\n",
    "            count += 1\n",
    "\n",
    "    return count\n",
    "\n",
    "result = count_agreed_problems()\n",
    "print(result)\n",
    "\n"
   ]
  },
  {
   "cell_type": "code",
   "execution_count": null,
   "id": "898e2058",
   "metadata": {},
   "outputs": [],
   "source": []
  }
 ],
 "metadata": {
  "kernelspec": {
   "display_name": "Python 3 (ipykernel)",
   "language": "python",
   "name": "python3"
  },
  "language_info": {
   "codemirror_mode": {
    "name": "ipython",
    "version": 3
   },
   "file_extension": ".py",
   "mimetype": "text/x-python",
   "name": "python",
   "nbconvert_exporter": "python",
   "pygments_lexer": "ipython3",
   "version": "3.9.13"
  }
 },
 "nbformat": 4,
 "nbformat_minor": 5
}
