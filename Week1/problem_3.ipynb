{
 "cells": [
  {
   "cell_type": "code",
   "execution_count": 4,
   "id": "cd673cad",
   "metadata": {},
   "outputs": [
    {
     "name": "stdout",
     "output_type": "stream",
     "text": [
      "1 2 2 3\n",
      "1\n"
     ]
    }
   ],
   "source": [
    "input_line = input()\n",
    "\n",
    "numbers = map(int, input_line.split())\n",
    "\n",
    "unique_numbers = set(numbers)\n",
    "\n",
    "count_unique = len(unique_numbers)\n",
    "\n",
    "result = 4 - count_unique\n",
    "\n",
    "print(result)\n"
   ]
  },
  {
   "cell_type": "code",
   "execution_count": null,
   "id": "fcb22d64",
   "metadata": {},
   "outputs": [],
   "source": []
  }
 ],
 "metadata": {
  "kernelspec": {
   "display_name": "Python 3 (ipykernel)",
   "language": "python",
   "name": "python3"
  },
  "language_info": {
   "codemirror_mode": {
    "name": "ipython",
    "version": 3
   },
   "file_extension": ".py",
   "mimetype": "text/x-python",
   "name": "python",
   "nbconvert_exporter": "python",
   "pygments_lexer": "ipython3",
   "version": "3.9.13"
  }
 },
 "nbformat": 4,
 "nbformat_minor": 5
}
