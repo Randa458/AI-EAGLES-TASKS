{
 "cells": [
  {
   "cell_type": "code",
   "execution_count": 22,
   "id": "737c536e",
   "metadata": {},
   "outputs": [
    {
     "name": "stdout",
     "output_type": "stream",
     "text": [
      "4 5\n",
      "1 1\n",
      "3\n",
      "1 1\n",
      "1 1\n",
      "0 -2\n",
      "4\n"
     ]
    }
   ],
   "source": [
    "def is_within_yard(x, y, yard_size):\n",
    "    return 0 < x <= yard_size[0] and 0 < y <= yard_size[1]\n",
    "\n",
    "yard_size = list(map(int, input().split()))\n",
    "initial_position = list(map(int, input().split()))\n",
    "num_of_steps = int(input())\n",
    "k_values = [tuple(map(int, input().split())) for _ in range(num_of_steps)]\n",
    "current_x, current_y = initial_position\n",
    "total_steps = 0\n",
    "    \n",
    "for dx, dy in k_values:\n",
    "    for _ in range(num_of_steps):\n",
    "        new_x = current_x + dx\n",
    "        new_y = current_y + dy\n",
    "        if is_within_yard(new_x, new_y, yard_size):\n",
    "            current_x, current_y = new_x, new_y\n",
    "            total_steps += 1\n",
    "        else:\n",
    "            break\n",
    "    \n",
    "print(total_steps)"
   ]
  },
  {
   "cell_type": "markdown",
   "id": "75b100b1",
   "metadata": {},
   "source": [
    "## another solution but it is from chat gpt"
   ]
  },
  {
   "cell_type": "code",
   "execution_count": 29,
   "id": "32ebea7c",
   "metadata": {},
   "outputs": [
    {
     "ename": "IndexError",
     "evalue": "list index out of range",
     "output_type": "error",
     "traceback": [
      "\u001b[1;31m---------------------------------------------------------------------------\u001b[0m",
      "\u001b[1;31mIndexError\u001b[0m                                Traceback (most recent call last)",
      "\u001b[1;32m~\\AppData\\Local\\Temp\\ipykernel_18308\\4009984575.py\u001b[0m in \u001b[0;36m<module>\u001b[1;34m\u001b[0m\n\u001b[0;32m     48\u001b[0m \u001b[1;33m\u001b[0m\u001b[0m\n\u001b[0;32m     49\u001b[0m \u001b[1;32mif\u001b[0m \u001b[0m__name__\u001b[0m \u001b[1;33m==\u001b[0m \u001b[1;34m\"__main__\"\u001b[0m\u001b[1;33m:\u001b[0m\u001b[1;33m\u001b[0m\u001b[1;33m\u001b[0m\u001b[0m\n\u001b[1;32m---> 50\u001b[1;33m     \u001b[0mmain\u001b[0m\u001b[1;33m(\u001b[0m\u001b[1;33m)\u001b[0m\u001b[1;33m\u001b[0m\u001b[1;33m\u001b[0m\u001b[0m\n\u001b[0m",
      "\u001b[1;32m~\\AppData\\Local\\Temp\\ipykernel_18308\\4009984575.py\u001b[0m in \u001b[0;36mmain\u001b[1;34m()\u001b[0m\n\u001b[0;32m      5\u001b[0m \u001b[1;33m\u001b[0m\u001b[0m\n\u001b[0;32m      6\u001b[0m     \u001b[1;31m# Read yard size and initial position\u001b[0m\u001b[1;33m\u001b[0m\u001b[1;33m\u001b[0m\u001b[0m\n\u001b[1;32m----> 7\u001b[1;33m     \u001b[0mn\u001b[0m \u001b[1;33m=\u001b[0m \u001b[0mint\u001b[0m\u001b[1;33m(\u001b[0m\u001b[0mdata\u001b[0m\u001b[1;33m[\u001b[0m\u001b[1;36m0\u001b[0m\u001b[1;33m]\u001b[0m\u001b[1;33m)\u001b[0m\u001b[1;33m\u001b[0m\u001b[1;33m\u001b[0m\u001b[0m\n\u001b[0m\u001b[0;32m      8\u001b[0m     \u001b[0mm\u001b[0m \u001b[1;33m=\u001b[0m \u001b[0mint\u001b[0m\u001b[1;33m(\u001b[0m\u001b[0mdata\u001b[0m\u001b[1;33m[\u001b[0m\u001b[1;36m1\u001b[0m\u001b[1;33m]\u001b[0m\u001b[1;33m)\u001b[0m\u001b[1;33m\u001b[0m\u001b[1;33m\u001b[0m\u001b[0m\n\u001b[0;32m      9\u001b[0m     \u001b[0mxc\u001b[0m \u001b[1;33m=\u001b[0m \u001b[0mint\u001b[0m\u001b[1;33m(\u001b[0m\u001b[0mdata\u001b[0m\u001b[1;33m[\u001b[0m\u001b[1;36m2\u001b[0m\u001b[1;33m]\u001b[0m\u001b[1;33m)\u001b[0m\u001b[1;33m\u001b[0m\u001b[1;33m\u001b[0m\u001b[0m\n",
      "\u001b[1;31mIndexError\u001b[0m: list index out of range"
     ]
    }
   ],
   "source": [
    "def main():\n",
    "    import sys\n",
    "    input = sys.stdin.read\n",
    "    data = input().split()\n",
    "    \n",
    "    # Read yard size and initial position\n",
    "    n = int(data[0])\n",
    "    m = int(data[1])\n",
    "    xc = int(data[2])\n",
    "    yc = int(data[3])\n",
    "    \n",
    "    # Read number of vectors\n",
    "    k = int(data[4])\n",
    "    \n",
    "    total_steps = 0\n",
    "    index = 5\n",
    "    \n",
    "    for _ in range(k):\n",
    "        dx = int(data[index])\n",
    "        dy = int(data[index + 1])\n",
    "        index += 2\n",
    "        \n",
    "        if dx == 0 and dy == 0:\n",
    "            continue\n",
    "        \n",
    "        steps_x = float('inf')\n",
    "        steps_y = float('inf')\n",
    "        \n",
    "        if dx > 0:\n",
    "            steps_x = (n - xc) // dx\n",
    "        elif dx < 0:\n",
    "            steps_x = (xc - 1) // -dx\n",
    "        \n",
    "        if dy > 0:\n",
    "            steps_y = (m - yc) // dy\n",
    "        elif dy < 0:\n",
    "            steps_y = (yc - 1) // -dy\n",
    "        \n",
    "        max_steps = min(steps_x, steps_y)\n",
    "        \n",
    "        # Update total steps and position\n",
    "        total_steps += max_steps\n",
    "        xc += max_steps * dx\n",
    "        yc += max_steps * dy\n",
    "    \n",
    "    # Output the total number of valid steps\n",
    "    print(total_steps)\n",
    "\n",
    "if __name__ == \"__main__\":\n",
    "    main()\n"
   ]
  },
  {
   "cell_type": "code",
   "execution_count": null,
   "id": "55350ecf",
   "metadata": {},
   "outputs": [],
   "source": []
  }
 ],
 "metadata": {
  "kernelspec": {
   "display_name": "Python 3 (ipykernel)",
   "language": "python",
   "name": "python3"
  },
  "language_info": {
   "codemirror_mode": {
    "name": "ipython",
    "version": 3
   },
   "file_extension": ".py",
   "mimetype": "text/x-python",
   "name": "python",
   "nbconvert_exporter": "python",
   "pygments_lexer": "ipython3",
   "version": "3.9.13"
  }
 },
 "nbformat": 4,
 "nbformat_minor": 5
}
