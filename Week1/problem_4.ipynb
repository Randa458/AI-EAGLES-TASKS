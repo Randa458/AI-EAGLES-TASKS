{
 "cells": [
  {
   "cell_type": "code",
   "execution_count": 39,
   "id": "dd61b53e",
   "metadata": {},
   "outputs": [
    {
     "name": "stdout",
     "output_type": "stream",
     "text": [
      "3\n",
      "2 1 2\n",
      "2\n"
     ]
    }
   ],
   "source": [
    "num_coins = int(input())\n",
    "\n",
    "coin_values = list(map(int, input().split()))\n",
    "total_sum = sum(coin_values)\n",
    "sorted_coin_values = sorted(coin_values)\n",
    "\n",
    "current_sum = 0\n",
    "counter = 0\n",
    "\n",
    "for i in range(len(sorted_coin_values) - 1, -1, -1):\n",
    "    if current_sum > total_sum // 2:\n",
    "        break\n",
    "    counter += 1\n",
    "    current_sum += sorted_coin_values[i]\n",
    "\n",
    "print(counter)\n"
   ]
  },
  {
   "cell_type": "code",
   "execution_count": null,
   "id": "31292958",
   "metadata": {},
   "outputs": [],
   "source": []
  }
 ],
 "metadata": {
  "kernelspec": {
   "display_name": "Python 3 (ipykernel)",
   "language": "python",
   "name": "python3"
  },
  "language_info": {
   "codemirror_mode": {
    "name": "ipython",
    "version": 3
   },
   "file_extension": ".py",
   "mimetype": "text/x-python",
   "name": "python",
   "nbconvert_exporter": "python",
   "pygments_lexer": "ipython3",
   "version": "3.9.13"
  }
 },
 "nbformat": 4,
 "nbformat_minor": 5
}
